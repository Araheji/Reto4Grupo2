{
 "cells": [
  {
   "cell_type": "code",
   "execution_count": 1,
   "id": "dd422a1c-9bcf-4c8e-ae21-41e2d6209fa5",
   "metadata": {},
   "outputs": [
    {
     "ename": "ModuleNotFoundError",
     "evalue": "No module named 'gTTS'",
     "output_type": "error",
     "traceback": [
      "\u001b[1;31m---------------------------------------------------------------------------\u001b[0m",
      "\u001b[1;31mModuleNotFoundError\u001b[0m                       Traceback (most recent call last)",
      "Cell \u001b[1;32mIn[1], line 2\u001b[0m\n\u001b[0;32m      1\u001b[0m \u001b[38;5;28;01mimport\u001b[39;00m \u001b[38;5;21;01mspeech_recognition\u001b[39;00m \u001b[38;5;28;01mas\u001b[39;00m \u001b[38;5;21;01msr\u001b[39;00m\n\u001b[1;32m----> 2\u001b[0m \u001b[38;5;28;01mimport\u001b[39;00m \u001b[38;5;21;01mgTTS\u001b[39;00m\n\u001b[0;32m      3\u001b[0m \u001b[38;5;28;01mimport\u001b[39;00m \u001b[38;5;21;01mos\u001b[39;00m\n\u001b[0;32m      4\u001b[0m \u001b[38;5;28;01mfrom\u001b[39;00m \u001b[38;5;21;01mjetbot\u001b[39;00m \u001b[38;5;28;01mimport\u001b[39;00m Robot\n",
      "\u001b[1;31mModuleNotFoundError\u001b[0m: No module named 'gTTS'"
     ]
    }
   ],
   "source": [
    "import speech_recognition as sr\n",
    "import gTTS\n",
    "import os\n",
    "from jetbot import Robot\n",
    "\n",
    "robot = Robot()\n",
    "\n",
    "# Función para reconocer lo que dices desde un archivo de audio\n",
    "def reconocer_voz_desde_archivo(archivo_audio):\n",
    "    recognizer = sr.Recognizer()\n",
    "    with sr.AudioFile(archivo_audio) as source:  # Cargar el archivo de audio\n",
    "        print(f\"Procesando archivo: {archivo_audio}\")\n",
    "        audio = recognizer.record(source)  # Leer el archivo de audio\n",
    "    try:\n",
    "        print(\"Reconociendo...\")\n",
    "        texto = recognizer.recognize_google(audio, language='es-ES')\n",
    "        print(f\"Comando reconocido: {texto}\")\n",
    "        return texto.lower()  # Convertimos el texto a minúsculas para compararlo mejor\n",
    "    except Exception as e:\n",
    "        print(f\"Error: {e}\")\n",
    "        return None\n",
    "\n",
    "# Función para convertir texto en voz (respuesta del robot)\n",
    "def hablar(texto):\n",
    "    tts = gTTS.gTTS(texto, lang='es')\n",
    "    tts.save(\"respuesta.mp3\")\n",
    "    os.system(\"mpg321 respuesta.mp3\")  # Reproducir el audio generado\n",
    "\n",
    "# Función de control del robot\n",
    "def controlar_robot(comando):\n",
    "    if \"avanzar\" in comando:\n",
    "        print(\"El robot avanza\")\n",
    "        robot.forward()  # Avanza\n",
    "        hablar(\"Voy hacia adelante\")\n",
    "    elif \"detener\" in comando:\n",
    "        print(\"El robot se detiene\")\n",
    "        robot.stop()  # Detiene el robot\n",
    "        hablar(\"Me detengo\")\n",
    "    elif \"retroceder\" in comando:\n",
    "        print(\"El robot retrocede\")\n",
    "        robot.backward()  # Retrocede\n",
    "        hablar(\"Voy hacia atrás\")\n",
    "    elif \"izquierda\" in comando:\n",
    "        print(\"El robot gira a la izquierda\")\n",
    "        robot.left()  # Gira a la izquierda\n",
    "        hablar(\"Voy a la izquierda\")\n",
    "    elif \"derecha\" in comando:\n",
    "        print(\"El robot gira a la derecha\")\n",
    "        robot.right()  # Gira a la derecha\n",
    "        hablar(\"Voy a la derecha\")\n",
    "    else:\n",
    "        print(\"Comando no reconocido\")\n",
    "        hablar(\"No entiendo el comando\")\n",
    "\n",
    "# Lista de archivos de audio a probar\n",
    "archivos_audio = [\"Detener.wav\", \"Avanzar.wav\"]  # Asegúrate de tener estos archivos en la misma carpeta\n",
    "\n",
    "# Flujo principal modificado\n",
    "def main():\n",
    "    for archivo_audio in archivos_audio:\n",
    "        comando = reconocer_voz_desde_archivo(archivo_audio)  # Procesar el archivo de audio\n",
    "        if comando:\n",
    "            controlar_robot(comando)\n",
    "\n",
    "if __name__ == \"__main__\":\n",
    "    main()\n"
   ]
  },
  {
   "cell_type": "code",
   "execution_count": null,
   "id": "37cfdbc3-5398-446a-b5cd-8e319fcf1585",
   "metadata": {},
   "outputs": [],
   "source": []
  }
 ],
 "metadata": {
  "kernelspec": {
   "display_name": "Python [conda env:saa2425] *",
   "language": "python",
   "name": "conda-env-saa2425-py"
  },
  "language_info": {
   "codemirror_mode": {
    "name": "ipython",
    "version": 3
   },
   "file_extension": ".py",
   "mimetype": "text/x-python",
   "name": "python",
   "nbconvert_exporter": "python",
   "pygments_lexer": "ipython3",
   "version": "3.11.10"
  }
 },
 "nbformat": 4,
 "nbformat_minor": 5
}
